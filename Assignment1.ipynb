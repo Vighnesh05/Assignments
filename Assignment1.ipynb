{
 "cells": [
  {
   "cell_type": "markdown",
   "id": "7438001d",
   "metadata": {},
   "source": [
    "1. In the below elements which of them are values or an expression? eg:- values can be integer or string and expressions will be mathematical operators.\n",
    "\n",
    "* \n",
    "'hello'\n",
    "-87.8\n",
    "- \n",
    "/ \n",
    "+\t\n",
    "6 \n",
    "\n",
    "Ans: 1) Values      : 'hello' , -87.8 , 6\n",
    "     2) Expressions : * , - , / , +"
   ]
  },
  {
   "cell_type": "markdown",
   "id": "7c61a9be",
   "metadata": {},
   "source": [
    "2. What is the difference between string and variable?\n",
    "Ans : A Variable is a name given to a memory location in a program, it is used to store information whereas string is a type of information we store in a variable. String is a data type in python which is enclosed in a quotes.\n",
    "\n",
    "Example : a = \"iNeuron\"     where a is a variable\n",
    "                                 \"iNeuron\" is a string enclosed in double quotes"
   ]
  },
  {
   "cell_type": "markdown",
   "id": "9765a1a8",
   "metadata": {},
   "source": [
    "3. Describe three different data types.\n",
    "Ans : \n",
    "    Different data types : \n",
    "    1) String : String is a type of information we store in a variable. String is a data type in python which is enclosed in a quotes. \n",
    "    Ex : \"iNeuron\" \n",
    "String can be enclosed in either single quote ('), double quotes (\") or triple quotes (''')\n",
    "\n",
    "    2) Integer : Integers are numerical value which can be zero, any positive numbers, negative numbers without fractional numbers.\n",
    "    Ex : 0, 1, 5, 7, 99, -23 etc\n",
    "    \n",
    "    3) Boolean : It is a type of data in python which gives result either True or False. In programming when we need to know whether the given condition is True or False we use Boolean type of data.\n",
    "    Ex : If a = 1\n",
    "            b = 20\n",
    "            \n",
    "            if a > b\n",
    "            Result : False\n"
   ]
  },
  {
   "cell_type": "markdown",
   "id": "1ef0490c",
   "metadata": {},
   "source": [
    "4. What is an expression made up of? What do all expressions do?\n",
    "\n",
    "Ans : In pyhton expression is an instruction that combines values and operators to produce some other value. It is made up of variables, values, containers and mathematical operators.\n",
    "    \n",
    "    Ex : a = 2+4\n",
    "        where a is a variable,\n",
    "              2,4 are integers\n",
    "              + is mathematical operators\n",
    "        This will produce a single value that is 6"
   ]
  },
  {
   "cell_type": "markdown",
   "id": "188d0dfd",
   "metadata": {},
   "source": [
    "5. This assignment statements, like spam = 10. What is the difference between an expression and a statement?\n",
    "\n",
    "Ans : Expression is made up of variables, values, containers and mathematical operators.In pyhton expression is an instruction that combines values and operators to produce some other value.\n",
    "Whereas Statement represent an action or command that python interpreter executes example print statements.\n",
    "    "
   ]
  },
  {
   "cell_type": "markdown",
   "id": "66b208e6",
   "metadata": {},
   "source": [
    "6. After running the following code, what does the variable bacon contain?\n",
    "bacon = 22\n",
    "bacon + 1\n",
    "\n",
    "Ans: 23"
   ]
  },
  {
   "cell_type": "code",
   "execution_count": 3,
   "id": "4cb651f0",
   "metadata": {},
   "outputs": [
    {
     "data": {
      "text/plain": [
       "23"
      ]
     },
     "execution_count": 3,
     "metadata": {},
     "output_type": "execute_result"
    }
   ],
   "source": [
    "bacon = 22\n",
    "bacon + 1"
   ]
  },
  {
   "cell_type": "markdown",
   "id": "8ce2100d",
   "metadata": {},
   "source": [
    "7. What should the values of the following two terms be?\n",
    "\n",
    "'spam' + 'spamspam'\n",
    "'spam' * 3\n",
    "\n",
    "Ans: Both will be same 'spamspamspam'"
   ]
  },
  {
   "cell_type": "code",
   "execution_count": 4,
   "id": "e95eefbe",
   "metadata": {},
   "outputs": [
    {
     "data": {
      "text/plain": [
       "'spamspamspam'"
      ]
     },
     "execution_count": 4,
     "metadata": {},
     "output_type": "execute_result"
    }
   ],
   "source": [
    "'spam' + 'spamspam'\n",
    "'spam' * 3"
   ]
  },
  {
   "cell_type": "markdown",
   "id": "0733f5d7",
   "metadata": {},
   "source": [
    "\n",
    "8. Why is eggs a valid variable name while 100 is invalid?\n",
    "\n",
    "Ans : We can't start variable name with an integer. Variable name can only start with alphabetsand underscore, however variabe can contain alphabets, digits and underscore.\n",
    "\n",
    "Ex : eggs100 or _eggs100 "
   ]
  },
  {
   "cell_type": "markdown",
   "id": "2de2dd8b",
   "metadata": {},
   "source": [
    "9. What three functions can be used to get the integer, floating-point number, or string version of a value?\n",
    "\n",
    "Ans : str(), int(), float()"
   ]
  },
  {
   "cell_type": "markdown",
   "id": "f1eb3a81",
   "metadata": {},
   "source": [
    "10. Why does this expression cause an error? How can you fix it?\n",
    "\n",
    "'I have eaten ' + 99 + ' burritos.'\n",
    "\n",
    "Ans: The above expression cause an error as 99 is an integer. In pyhton we can't concatenate an integer with strings. In order to resolve error we need to do typecasting. \n",
    "Error can be solved as per below."
   ]
  },
  {
   "cell_type": "code",
   "execution_count": 6,
   "id": "21dd0d56",
   "metadata": {},
   "outputs": [
    {
     "data": {
      "text/plain": [
       "'I have eaten 99 burritos.'"
      ]
     },
     "execution_count": 6,
     "metadata": {},
     "output_type": "execute_result"
    }
   ],
   "source": [
    "'I have eaten ' + '99' + ' burritos.'"
   ]
  },
  {
   "cell_type": "code",
   "execution_count": null,
   "id": "64124f7d",
   "metadata": {},
   "outputs": [],
   "source": []
  }
 ],
 "metadata": {
  "kernelspec": {
   "display_name": "Python 3 (ipykernel)",
   "language": "python",
   "name": "python3"
  },
  "language_info": {
   "codemirror_mode": {
    "name": "ipython",
    "version": 3
   },
   "file_extension": ".py",
   "mimetype": "text/x-python",
   "name": "python",
   "nbconvert_exporter": "python",
   "pygments_lexer": "ipython3",
   "version": "3.9.7"
  }
 },
 "nbformat": 4,
 "nbformat_minor": 5
}
